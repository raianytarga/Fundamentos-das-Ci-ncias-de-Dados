{
  "nbformat": 4,
  "nbformat_minor": 0,
  "metadata": {
    "colab": {
      "provenance": []
    },
    "kernelspec": {
      "name": "python3",
      "display_name": "Python 3"
    },
    "language_info": {
      "name": "python"
    }
  },
  "cells": [
    {
      "cell_type": "code",
      "execution_count": null,
      "metadata": {
        "id": "aeuR5frkL0Tm"
      },
      "outputs": [],
      "source": [
        "# exercício 1\n",
        "- Mostre na tela a concatenação das informações: \"Meu nome é [nome], tenho [idade] anos e\n",
        "minha altura é [altura] metros.\""
      ]
    },
    {
      "cell_type": "code",
      "source": [
        "#Crie uma variável chamada nome e atribua o seu nome a ela.\n",
        "nome = \"Raiany\"\n",
        "nome"
      ],
      "metadata": {
        "colab": {
          "base_uri": "https://localhost:8080/",
          "height": 35
        },
        "id": "nyTXoLtJL21l",
        "outputId": "e93c7951-ba77-4f18-b748-174ae00d6a6b"
      },
      "execution_count": null,
      "outputs": [
        {
          "output_type": "execute_result",
          "data": {
            "text/plain": [
              "'Raiany'"
            ],
            "application/vnd.google.colaboratory.intrinsic+json": {
              "type": "string"
            }
          },
          "metadata": {},
          "execution_count": 1
        }
      ]
    },
    {
      "cell_type": "code",
      "source": [
        "#Crie uma variável chamada idade e atribua sua idade a ela.\n",
        "idade = \"22\"\n",
        "idade"
      ],
      "metadata": {
        "colab": {
          "base_uri": "https://localhost:8080/",
          "height": 35
        },
        "id": "4FlyWRH-M5ST",
        "outputId": "53b94f1e-83a1-4681-8ad9-66870564cf77"
      },
      "execution_count": null,
      "outputs": [
        {
          "output_type": "execute_result",
          "data": {
            "text/plain": [
              "'22'"
            ],
            "application/vnd.google.colaboratory.intrinsic+json": {
              "type": "string"
            }
          },
          "metadata": {},
          "execution_count": 2
        }
      ]
    },
    {
      "cell_type": "code",
      "source": [
        "#Crie uma variável chamada altura e atribua sua altura (em metros) a ela.\n",
        "altura = \"1,52 (metros)\"\n",
        "altura"
      ],
      "metadata": {
        "colab": {
          "base_uri": "https://localhost:8080/",
          "height": 35
        },
        "id": "K0RqWQN_NFA5",
        "outputId": "0d1be3a0-81b5-455b-f126-c962bb1736dc"
      },
      "execution_count": null,
      "outputs": [
        {
          "output_type": "execute_result",
          "data": {
            "text/plain": [
              "'1,52 (metros)'"
            ],
            "application/vnd.google.colaboratory.intrinsic+json": {
              "type": "string"
            }
          },
          "metadata": {},
          "execution_count": 3
        }
      ]
    },
    {
      "cell_type": "code",
      "source": [
        "#Mostre na tela a concatenação das informações: \"Meu nome é [nome], tenho [idade] anos e\n",
        "#minha altura é [altura] metros.\"\n",
        "nome = \"Raiany\"\n",
        "idade = 22\n",
        "altura = 1,52\n",
        "print(\"Meu nome é {a}, tenho {b} anos e minha altura é {c} metros \".format(a = nome, b = idade, c = altura))"
      ],
      "metadata": {
        "colab": {
          "base_uri": "https://localhost:8080/"
        },
        "id": "Yt7CPGqNNVFi",
        "outputId": "81c57321-bb81-40e6-86ab-4507a1e143df"
      },
      "execution_count": null,
      "outputs": [
        {
          "output_type": "stream",
          "name": "stdout",
          "text": [
            "Meu nome é Raiany, tenho 22 anos e minha altura é (1, 52) metros \n"
          ]
        }
      ]
    },
    {
      "cell_type": "code",
      "source": [
        "# exercício 2\n",
        "- Utilize o método .split() para dividir a frase em palavras e imprima o resultado como uma\n",
        "lista."
      ],
      "metadata": {
        "id": "hM3329COOVzQ"
      },
      "execution_count": null,
      "outputs": []
    },
    {
      "cell_type": "code",
      "source": [
        "#Crie uma variável chamada frase e atribua a seguinte frase a ela:\n",
        "\"Python é uma linguagem de programação muito poderosa.\"\n",
        "frase = \"Python é uma linguagem de programação muito poderosa.\""
      ],
      "metadata": {
        "id": "7KPOSrbBOqBo"
      },
      "execution_count": null,
      "outputs": []
    },
    {
      "cell_type": "code",
      "source": [
        "#Utilize o método .upper() para transformar toda a frase em maiúsculas e imprima o resultado.\n",
        "frase = \"Python é uma linguagem de programação muito poderosa.\"\n",
        "frase.upper()"
      ],
      "metadata": {
        "colab": {
          "base_uri": "https://localhost:8080/",
          "height": 35
        },
        "id": "BUJPNWHeOiPZ",
        "outputId": "0c64c356-d8d1-475e-bd0c-5c8823237dd3"
      },
      "execution_count": null,
      "outputs": [
        {
          "output_type": "execute_result",
          "data": {
            "text/plain": [
              "'PYTHON É UMA LINGUAGEM DE PROGRAMAÇÃO MUITO PODEROSA.'"
            ],
            "application/vnd.google.colaboratory.intrinsic+json": {
              "type": "string"
            }
          },
          "metadata": {},
          "execution_count": 7
        }
      ]
    },
    {
      "cell_type": "code",
      "source": [
        "#Utilize o método .lower() para transformar toda a frase em minúsculas e imprima o resultado.\n",
        "frase = \"Python é uma linguagem de programação muito poderosa.\"\n",
        "frase.lower()"
      ],
      "metadata": {
        "colab": {
          "base_uri": "https://localhost:8080/",
          "height": 35
        },
        "id": "gK5JnhdWPO9a",
        "outputId": "bb63c0be-1e0a-4aa8-cd26-fc652be18364"
      },
      "execution_count": null,
      "outputs": [
        {
          "output_type": "execute_result",
          "data": {
            "text/plain": [
              "'python é uma linguagem de programação muito poderosa.'"
            ],
            "application/vnd.google.colaboratory.intrinsic+json": {
              "type": "string"
            }
          },
          "metadata": {},
          "execution_count": 8
        }
      ]
    },
    {
      "cell_type": "code",
      "source": [
        "#Utilize o método .replace() para substituir a palavra \"muito\" por \"extremamente\". Imprima o resultado.\n",
        "frase = \"Python é uma linguagem de programação muito poderosa.\"\n",
        "frase.replace(\"muito\", \"extremamente\")"
      ],
      "metadata": {
        "colab": {
          "base_uri": "https://localhost:8080/",
          "height": 35
        },
        "id": "JBQD6HRMOo0b",
        "outputId": "799b0762-6be2-46f4-df84-710d6cf1e296"
      },
      "execution_count": null,
      "outputs": [
        {
          "output_type": "execute_result",
          "data": {
            "text/plain": [
              "'Python é uma linguagem de programação extremamente poderosa.'"
            ],
            "application/vnd.google.colaboratory.intrinsic+json": {
              "type": "string"
            }
          },
          "metadata": {},
          "execution_count": 14
        }
      ]
    },
    {
      "cell_type": "code",
      "source": [
        "#Utilize o método .split() para dividir a frase em palavras e imprima o resultado como uma lista.\n",
        "frase = \"Python é uma linguagem de programação muito poderosa.\"\n",
        "\"Python é uma linguagem de programação muito poderosa.\".split()"
      ],
      "metadata": {
        "colab": {
          "base_uri": "https://localhost:8080/"
        },
        "id": "qf6_GbHYQSs3",
        "outputId": "39e70bc9-3a7f-4196-a9fe-5e3397f9995d"
      },
      "execution_count": null,
      "outputs": [
        {
          "output_type": "execute_result",
          "data": {
            "text/plain": [
              "['Python', 'é', 'uma', 'linguagem', 'de', 'programação', 'muito', 'poderosa.']"
            ]
          },
          "metadata": {},
          "execution_count": 15
        }
      ]
    },
    {
      "cell_type": "code",
      "source": [
        "#exercício 3"
      ],
      "metadata": {
        "id": "XbhDA13QQ0Wg"
      },
      "execution_count": null,
      "outputs": []
    },
    {
      "cell_type": "code",
      "source": [
        "#- Crie uma lista chamada frutas contendo os seguintes itens: \"maçã\", \"banana\", \"laranja\", \"uva\", \"abacaxi\" e imprima.\n",
        "frutas = \"maçã, banana, laranja, uva, abacaxi\"\n",
        "frutas"
      ],
      "metadata": {
        "colab": {
          "base_uri": "https://localhost:8080/",
          "height": 35
        },
        "id": "Uc3tVwgXQ4tf",
        "outputId": "d87d24c6-2543-4b89-89f4-bd59c20fc0b6"
      },
      "execution_count": null,
      "outputs": [
        {
          "output_type": "execute_result",
          "data": {
            "text/plain": [
              "'maçã, banana, laranja, uva, abacaxi'"
            ],
            "application/vnd.google.colaboratory.intrinsic+json": {
              "type": "string"
            }
          },
          "metadata": {},
          "execution_count": 18
        }
      ]
    },
    {
      "cell_type": "code",
      "source": [
        "#Adicione o item \"manga\" à lista frutas utilizando o método .append() e imprima a lista novamente.\n",
        "frutas = [\"maçã\", \"banana\", \"laranja\", \"uva\", \"abacaxi\"]\n",
        "frutas\n",
        "frutas.append(\"manga\")\n",
        "frutas"
      ],
      "metadata": {
        "colab": {
          "base_uri": "https://localhost:8080/"
        },
        "id": "aWn5XSM7RbT2",
        "outputId": "29ac0e0c-c88a-4de0-ec6b-5768e1d74b24"
      },
      "execution_count": null,
      "outputs": [
        {
          "output_type": "execute_result",
          "data": {
            "text/plain": [
              "['maçã', 'banana', 'laranja', 'uva', 'abacaxi', 'manga']"
            ]
          },
          "metadata": {},
          "execution_count": 30
        }
      ]
    },
    {
      "cell_type": "code",
      "source": [
        " #Remova o item \"laranja\" da lista frutas utilizando o método .remove() e imprima a lista.\n",
        " frutas = [\"maçã\", \"banana\", \"laranja\", \"uva\", \"abacaxi\"]\n",
        "frutas\n",
        "frutas.remove(\"laranja\")\n",
        "frutas"
      ],
      "metadata": {
        "colab": {
          "base_uri": "https://localhost:8080/"
        },
        "id": "fNu1uCdeSz1W",
        "outputId": "caae0be6-5b79-4929-da16-55732aab0ea0"
      },
      "execution_count": null,
      "outputs": [
        {
          "output_type": "execute_result",
          "data": {
            "text/plain": [
              "['maçã', 'banana', 'uva', 'abacaxi']"
            ]
          },
          "metadata": {},
          "execution_count": 29
        }
      ]
    },
    {
      "cell_type": "code",
      "source": [
        "#Acesse o terceiro item da lista frutas (lembrando que as listas começam em 0) e imprima-o.\n",
        "frutas = [\"maçã\", \"banana\", \"laranja\", \"uva\", \"abacaxi\"]\n",
        "frutas\n",
        "frutas[2]"
      ],
      "metadata": {
        "colab": {
          "base_uri": "https://localhost:8080/",
          "height": 53
        },
        "id": "YF5xcXdETEV2",
        "outputId": "a0a67cde-de76-447b-8ad6-2a2f234c923d"
      },
      "execution_count": null,
      "outputs": [
        {
          "output_type": "stream",
          "name": "stdout",
          "text": [
            "['maçã', 'banana', 'laranja', 'uva', 'abacaxi']\n"
          ]
        },
        {
          "output_type": "execute_result",
          "data": {
            "text/plain": [
              "'laranja'"
            ],
            "application/vnd.google.colaboratory.intrinsic+json": {
              "type": "string"
            }
          },
          "metadata": {},
          "execution_count": 27
        }
      ]
    },
    {
      "cell_type": "code",
      "source": [
        "#Ordene a lista frutas em ordem alfabética utilizando o método .sort() e imprima a lista.\n",
        "frutas = [\"maçã\", \"banana\", \"laranja\", \"uva\", \"abacaxi\"]\n",
        "frutas.sort()\n",
        "frutas"
      ],
      "metadata": {
        "colab": {
          "base_uri": "https://localhost:8080/"
        },
        "id": "TbDSG1_zTptN",
        "outputId": "dbccdbd9-79cc-4ed6-aec7-66beac6b6813"
      },
      "execution_count": null,
      "outputs": [
        {
          "output_type": "execute_result",
          "data": {
            "text/plain": [
              "['abacaxi', 'banana', 'laranja', 'maçã', 'uva']"
            ]
          },
          "metadata": {},
          "execution_count": 31
        }
      ]
    },
    {
      "cell_type": "code",
      "source": [
        "#Crie uma lista chamada numeros com os valores [10, 5, 8, 3, 6]. Utilize a função sum() para calcular a soma de todos os elementos dessa lista e imprima o resultado.\n",
        "numeros = [10,5,8,3,6]\n",
        "sum(numeros)"
      ],
      "metadata": {
        "colab": {
          "base_uri": "https://localhost:8080/"
        },
        "id": "n0F-GcfgUC13",
        "outputId": "44eac927-a027-447f-bc05-a1aad7608697"
      },
      "execution_count": null,
      "outputs": [
        {
          "output_type": "execute_result",
          "data": {
            "text/plain": [
              "32"
            ]
          },
          "metadata": {},
          "execution_count": 35
        }
      ]
    },
    {
      "cell_type": "code",
      "source": [
        "#Exercício 6\n",
        "#Crie um programa que receba a altura e o peso de uma pessoa e imprima seu IMC\n",
        "print(\"Digite sua altura: \")\n",
        "altura = input()\n",
        "altura = altura.replace(\",\",\".\")\n",
        "altura = float(altura)\n",
        "print(\"Digite seu peso: \")\n",
        "peso = float(input())\n",
        "imc = altura/(peso**2)\n",
        "print(\"IMC = \", imc)"
      ],
      "metadata": {
        "colab": {
          "base_uri": "https://localhost:8080/"
        },
        "id": "DWCtrzMpUtsm",
        "outputId": "a42e8d8c-ff6e-402c-87d2-5b50ce1cbf4b"
      },
      "execution_count": null,
      "outputs": [
        {
          "output_type": "stream",
          "name": "stdout",
          "text": [
            "Digite sua altura: \n",
            "1,52\n",
            "Digite seu peso: \n",
            "45\n",
            "IMC =  0.0007506172839506173\n"
          ]
        }
      ]
    },
    {
      "cell_type": "code",
      "source": [
        "#Exercício 7\n",
        "#Escreva um programa que pergunte o nome completo do usuário e o cumprimente pelo primeiro nome.\n",
        "print(\"Digite seu nome: \")\n",
        "a = input()\n",
        "print(\"Olá, \", a)"
      ],
      "metadata": {
        "colab": {
          "base_uri": "https://localhost:8080/"
        },
        "id": "ZN6yQ4wUYOWk",
        "outputId": "15260d5c-d39d-40a5-bf20-9dd25fd38ffd"
      },
      "execution_count": null,
      "outputs": [
        {
          "output_type": "stream",
          "name": "stdout",
          "text": [
            "Digite seu nome: \n",
            "raiany\n",
            "Olá,  raiany\n"
          ]
        }
      ]
    },
    {
      "cell_type": "code",
      "source": [
        "#Exercício 8\n",
        "#Escreva um código que extraia o domínio de um e-mail informado\n",
        "print(\"Digite seu e-mail: \")\n",
        "a = input()\n",
        "a.split('@')[-1]"
      ],
      "metadata": {
        "colab": {
          "base_uri": "https://localhost:8080/",
          "height": 70
        },
        "id": "kmTOWTxoYc6S",
        "outputId": "ca181e9a-2403-4b10-9e2f-c9ee33547b5e"
      },
      "execution_count": null,
      "outputs": [
        {
          "name": "stdout",
          "output_type": "stream",
          "text": [
            "Digite seu e-mail: \n",
            "rtarganorato@gmail.com\n"
          ]
        },
        {
          "output_type": "execute_result",
          "data": {
            "text/plain": [
              "'gmail.com'"
            ],
            "application/vnd.google.colaboratory.intrinsic+json": {
              "type": "string"
            }
          },
          "metadata": {},
          "execution_count": 51
        }
      ]
    }
  ]
}