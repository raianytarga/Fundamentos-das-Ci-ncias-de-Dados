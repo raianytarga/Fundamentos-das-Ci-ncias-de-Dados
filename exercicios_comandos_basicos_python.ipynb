{
  "nbformat": 4,
  "nbformat_minor": 0,
  "metadata": {
    "colab": {
      "provenance": []
    },
    "kernelspec": {
      "name": "python3",
      "display_name": "Python 3"
    },
    "language_info": {
      "name": "python"
    }
  },
  "cells": [
    {
      "cell_type": "code",
      "execution_count": null,
      "metadata": {
        "id": "aeuR5frkL0Tm"
      },
      "outputs": [],
      "source": [
        "# exercício 1\n",
        "- Mostre na tela a concatenação das informações: \"Meu nome é [nome], tenho [idade] anos e\n",
        "minha altura é [altura] metros.\""
      ]
    },
    {
      "cell_type": "code",
      "source": [
        "#Crie uma variável chamada nome e atribua o seu nome a ela.\n",
        "nome = \"Raiany\"\n",
        "nome"
      ],
      "metadata": {
        "colab": {
          "base_uri": "https://localhost:8080/",
          "height": 35
        },
        "id": "nyTXoLtJL21l",
        "outputId": "e93c7951-ba77-4f18-b748-174ae00d6a6b"
      },
      "execution_count": null,
      "outputs": [
        {
          "output_type": "execute_result",
          "data": {
            "text/plain": [
              "'Raiany'"
            ],
            "application/vnd.google.colaboratory.intrinsic+json": {
              "type": "string"
            }
          },
          "metadata": {},
          "execution_count": 1
        }
      ]
    },
    {
      "cell_type": "code",
      "source": [
        "#Crie uma variável chamada idade e atribua sua idade a ela.\n",
        "idade = \"22\"\n",
        "idade"
      ],
      "metadata": {
        "colab": {
          "base_uri": "https://localhost:8080/",
          "height": 35
        },
        "id": "4FlyWRH-M5ST",
        "outputId": "53b94f1e-83a1-4681-8ad9-66870564cf77"
      },
      "execution_count": null,
      "outputs": [
        {
          "output_type": "execute_result",
          "data": {
            "text/plain": [
              "'22'"
            ],
            "application/vnd.google.colaboratory.intrinsic+json": {
              "type": "string"
            }
          },
          "metadata": {},
          "execution_count": 2
        }
      ]
    },
    {
      "cell_type": "code",
      "source": [
        "#Crie uma variável chamada altura e atribua sua altura (em metros) a ela.\n",
        "altura = \"1,52 (metros)\"\n",
        "altura"
      ],
      "metadata": {
        "colab": {
          "base_uri": "https://localhost:8080/",
          "height": 35
        },
        "id": "K0RqWQN_NFA5",
        "outputId": "0d1be3a0-81b5-455b-f126-c962bb1736dc"
      },
      "execution_count": null,
      "outputs": [
        {
          "output_type": "execute_result",
          "data": {
            "text/plain": [
              "'1,52 (metros)'"
            ],
            "application/vnd.google.colaboratory.intrinsic+json": {
              "type": "string"
            }
          },
          "metadata": {},
          "execution_count": 3
        }
      ]
    },
    {
      "cell_type": "code",
      "source": [
        "#Mostre na tela a concatenação das informações: \"Meu nome é [nome], tenho [idade] anos e\n",
        "#minha altura é [altura] metros.\"\n",
        "nome = \"Raiany\"\n",
        "idade = 22\n",
        "altura = 1,52\n",
        "print(\"Meu nome é {a}, tenho {b} anos e minha altura é {c} metros \".format(a = nome, b = idade, c = altura))"
      ],
      "metadata": {
        "colab": {
          "base_uri": "https://localhost:8080/"
        },
        "id": "Yt7CPGqNNVFi",
        "outputId": "81c57321-bb81-40e6-86ab-4507a1e143df"
      },
      "execution_count": null,
      "outputs": [
        {
          "output_type": "stream",
          "name": "stdout",
          "text": [
            "Meu nome é Raiany, tenho 22 anos e minha altura é (1, 52) metros \n"
          ]
        }
      ]
    },
    {
      "cell_type": "code",
      "source": [
        "# exercício 2\n",
        "- Utilize o método .split() para dividir a frase em palavras e imprima o resultado como uma\n",
        "lista."
      ],
      "metadata": {
        "id": "hM3329COOVzQ"
      },
      "execution_count": null,
      "outputs": []
    },
    {
      "cell_type": "code",
      "source": [
        "#Crie uma variável chamada frase e atribua a seguinte frase a ela:\n",
        "\"Python é uma linguagem de programação muito poderosa.\"\n",
        "frase = \"Python é uma linguagem de programação muito poderosa.\""
      ],
      "metadata": {
        "id": "7KPOSrbBOqBo"
      },
      "execution_count": null,
      "outputs": []
    },
    {
      "cell_type": "code",
      "source": [
        "#Utilize o método .upper() para transformar toda a frase em maiúsculas e imprima o resultado.\n",
        "frase = \"Python é uma linguagem de programação muito poderosa.\"\n",
        "frase.upper()"
      ],
      "metadata": {
        "colab": {
          "base_uri": "https://localhost:8080/",
          "height": 35
        },
        "id": "BUJPNWHeOiPZ",
        "outputId": "0c64c356-d8d1-475e-bd0c-5c8823237dd3"
      },
      "execution_count": null,
      "outputs": [
        {
          "output_type": "execute_result",
          "data": {
            "text/plain": [
              "'PYTHON É UMA LINGUAGEM DE PROGRAMAÇÃO MUITO PODEROSA.'"
            ],
            "application/vnd.google.colaboratory.intrinsic+json": {
              "type": "string"
            }
          },
          "metadata": {},
          "execution_count": 7
        }
      ]
    },
    {
      "cell_type": "code",
      "source": [
        "#Utilize o método .lower() para transformar toda a frase em minúsculas e imprima o resultado.\n",
        "frase = \"Python é uma linguagem de programação muito poderosa.\"\n",
        "frase.lower()"
      ],
      "metadata": {
        "colab": {
          "base_uri": "https://localhost:8080/",
          "height": 35
        },
        "id": "gK5JnhdWPO9a",
        "outputId": "bb63c0be-1e0a-4aa8-cd26-fc652be18364"
      },
      "execution_count": null,
      "outputs": [
        {
          "output_type": "execute_result",
          "data": {
            "text/plain": [
              "'python é uma linguagem de programação muito poderosa.'"
            ],
            "application/vnd.google.colaboratory.intrinsic+json": {
              "type": "string"
            }
          },
          "metadata": {},
          "execution_count": 8
        }
      ]
    },
    {
      "cell_type": "code",
      "source": [
        "#Utilize o método .replace() para substituir a palavra \"muito\" por \"extremamente\". Imprima o resultado.\n",
        "frase = \"Python é uma linguagem de programação muito poderosa.\"\n",
        "frase.replace(\"muito\", \"extremamente\")"
      ],
      "metadata": {
        "colab": {
          "base_uri": "https://localhost:8080/",
          "height": 35
        },
        "id": "JBQD6HRMOo0b",
        "outputId": "799b0762-6be2-46f4-df84-710d6cf1e296"
      },
      "execution_count": null,
      "outputs": [
        {
          "output_type": "execute_result",
          "data": {
            "text/plain": [
              "'Python é uma linguagem de programação extremamente poderosa.'"
            ],
            "application/vnd.google.colaboratory.intrinsic+json": {
              "type": "string"
            }
          },
          "metadata": {},
          "execution_count": 14
        }
      ]
    },
    {
      "cell_type": "code",
      "source": [
        "#Utilize o método .split() para dividir a frase em palavras e imprima o resultado como uma lista.\n",
        "frase = \"Python é uma linguagem de programação muito poderosa.\"\n",
        "\"Python é uma linguagem de programação muito poderosa.\".split()"
      ],
      "metadata": {
        "colab": {
          "base_uri": "https://localhost:8080/"
        },
        "id": "qf6_GbHYQSs3",
        "outputId": "39e70bc9-3a7f-4196-a9fe-5e3397f9995d"
      },
      "execution_count": null,
      "outputs": [
        {
          "output_type": "execute_result",
          "data": {
            "text/plain": [
              "['Python', 'é', 'uma', 'linguagem', 'de', 'programação', 'muito', 'poderosa.']"
            ]
          },
          "metadata": {},
          "execution_count": 15
        }
      ]
    },
    {
      "cell_type": "code",
      "source": [
        "#exercício 3"
      ],
      "metadata": {
        "id": "XbhDA13QQ0Wg"
      },
      "execution_count": null,
      "outputs": []
    },
    {
      "cell_type": "code",
      "source": [
        "#- Crie uma lista chamada frutas contendo os seguintes itens: \"maçã\", \"banana\", \"laranja\", \"uva\", \"abacaxi\" e imprima.\n",
        "frutas = \"maçã, banana, laranja, uva, abacaxi\"\n",
        "frutas"
      ],
      "metadata": {
        "colab": {
          "base_uri": "https://localhost:8080/",
          "height": 35
        },
        "id": "Uc3tVwgXQ4tf",
        "outputId": "d87d24c6-2543-4b89-89f4-bd59c20fc0b6"
      },
      "execution_count": null,
      "outputs": [
        {
          "output_type": "execute_result",
          "data": {
            "text/plain": [
              "'maçã, banana, laranja, uva, abacaxi'"
            ],
            "application/vnd.google.colaboratory.intrinsic+json": {
              "type": "string"
            }
          },
          "metadata": {},
          "execution_count": 18
        }
      ]
    },
    {
      "cell_type": "code",
      "source": [
        "#Adicione o item \"manga\" à lista frutas utilizando o método .append() e imprima a lista novamente.\n",
        "frutas = [\"maçã\", \"banana\", \"laranja\", \"uva\", \"abacaxi\"]\n",
        "frutas\n",
        "frutas.append(\"manga\")\n",
        "frutas"
      ],
      "metadata": {
        "colab": {
          "base_uri": "https://localhost:8080/"
        },
        "id": "aWn5XSM7RbT2",
        "outputId": "29ac0e0c-c88a-4de0-ec6b-5768e1d74b24"
      },
      "execution_count": null,
      "outputs": [
        {
          "output_type": "execute_result",
          "data": {
            "text/plain": [
              "['maçã', 'banana', 'laranja', 'uva', 'abacaxi', 'manga']"
            ]
          },
          "metadata": {},
          "execution_count": 30
        }
      ]
    },
    {
      "cell_type": "code",
      "source": [
        " #Remova o item \"laranja\" da lista frutas utilizando o método .remove() e imprima a lista.\n",
        " frutas = [\"maçã\", \"banana\", \"laranja\", \"uva\", \"abacaxi\"]\n",
        "frutas\n",
        "frutas.remove(\"laranja\")\n",
        "frutas"
      ],
      "metadata": {
        "colab": {
          "base_uri": "https://localhost:8080/"
        },
        "id": "fNu1uCdeSz1W",
        "outputId": "caae0be6-5b79-4929-da16-55732aab0ea0"
      },
      "execution_count": null,
      "outputs": [
        {
          "output_type": "execute_result",
          "data": {
            "text/plain": [
              "['maçã', 'banana', 'uva', 'abacaxi']"
            ]
          },
          "metadata": {},
          "execution_count": 29
        }
      ]
    },
    {
      "cell_type": "code",
      "source": [
        "#Acesse o terceiro item da lista frutas (lembrando que as listas começam em 0) e imprima-o.\n",
        "frutas = [\"maçã\", \"banana\", \"laranja\", \"uva\", \"abacaxi\"]\n",
        "frutas\n",
        "frutas[2]"
      ],
      "metadata": {
        "colab": {
          "base_uri": "https://localhost:8080/",
          "height": 53
        },
        "id": "YF5xcXdETEV2",
        "outputId": "a0a67cde-de76-447b-8ad6-2a2f234c923d"
      },
      "execution_count": null,
      "outputs": [
        {
          "output_type": "stream",
          "name": "stdout",
          "text": [
            "['maçã', 'banana', 'laranja', 'uva', 'abacaxi']\n"
          ]
        },
        {
          "output_type": "execute_result",
          "data": {
            "text/plain": [
              "'laranja'"
            ],
            "application/vnd.google.colaboratory.intrinsic+json": {
              "type": "string"
            }
          },
          "metadata": {},
          "execution_count": 27
        }
      ]
    },
    {
      "cell_type": "code",
      "source": [
        "#Ordene a lista frutas em ordem alfabética utilizando o método .sort() e imprima a lista.\n",
        "frutas = [\"maçã\", \"banana\", \"laranja\", \"uva\", \"abacaxi\"]\n",
        "frutas.sort()\n",
        "frutas"
      ],
      "metadata": {
        "colab": {
          "base_uri": "https://localhost:8080/"
        },
        "id": "TbDSG1_zTptN",
        "outputId": "dbccdbd9-79cc-4ed6-aec7-66beac6b6813"
      },
      "execution_count": null,
      "outputs": [
        {
          "output_type": "execute_result",
          "data": {
            "text/plain": [
              "['abacaxi', 'banana', 'laranja', 'maçã', 'uva']"
            ]
          },
          "metadata": {},
          "execution_count": 31
        }
      ]
    },
    {
      "cell_type": "code",
      "source": [
        "#Crie uma lista chamada numeros com os valores [10, 5, 8, 3, 6]. Utilize a função sum() para calcular a soma de todos os elementos dessa lista e imprima o resultado.\n",
        "numeros = [10,5,8,3,6]\n",
        "sum(numeros)"
      ],
      "metadata": {
        "colab": {
          "base_uri": "https://localhost:8080/"
        },
        "id": "n0F-GcfgUC13",
        "outputId": "44eac927-a027-447f-bc05-a1aad7608697"
      },
      "execution_count": null,
      "outputs": [
        {
          "output_type": "execute_result",
          "data": {
            "text/plain": [
              "32"
            ]
          },
          "metadata": {},
          "execution_count": 35
        }
      ]
    },
    {
      "cell_type": "code",
      "source": [
        "# Exercício 4\n",
        "#Crie um dicionário chamado pessoa com as seguintes chaves e valores: \"nome\": \"Carlos\" \"idade\": 30 \"cidade\": \"São Paulo\"\n",
        "- Utilize o método .values() para imprimir todos os valores do dicionário.\n"
      ],
      "metadata": {
        "id": "WvIKsP7K-tIL"
      },
      "execution_count": null,
      "outputs": []
    },
    {
      "cell_type": "code",
      "source": [
        "#Imprima o dicionário pessoa.\n",
        "pessoa = {\"nome\": \"Carlos\", \"idade\": 30, \"cidade\": \"São Paulo\"}\n",
        "pessoa"
      ],
      "metadata": {
        "colab": {
          "base_uri": "https://localhost:8080/"
        },
        "id": "uzDNb5a1-2Gg",
        "outputId": "25b51682-b53d-4446-c690-5824add35d81"
      },
      "execution_count": 1,
      "outputs": [
        {
          "output_type": "execute_result",
          "data": {
            "text/plain": [
              "{'nome': 'Carlos', 'idade': 30, 'cidade': 'São Paulo'}"
            ]
          },
          "metadata": {},
          "execution_count": 1
        }
      ]
    },
    {
      "cell_type": "code",
      "source": [
        "#Acesse e imprima o valor associado à chave \"nome\".\n",
        "pessoa[\"nome\"]"
      ],
      "metadata": {
        "colab": {
          "base_uri": "https://localhost:8080/",
          "height": 35
        },
        "id": "NI-LcHJk_L8S",
        "outputId": "2b27bb72-b6c9-4220-f301-119f64dc757d"
      },
      "execution_count": 2,
      "outputs": [
        {
          "output_type": "execute_result",
          "data": {
            "text/plain": [
              "'Carlos'"
            ],
            "application/vnd.google.colaboratory.intrinsic+json": {
              "type": "string"
            }
          },
          "metadata": {},
          "execution_count": 2
        }
      ]
    },
    {
      "cell_type": "code",
      "source": [
        "#Altere a idade de \"Carlos\" para 31 e imprima o dicionário novamente.\n",
        "pessoa[\"idade\"] = 31\n",
        "pessoa"
      ],
      "metadata": {
        "colab": {
          "base_uri": "https://localhost:8080/"
        },
        "id": "-e92u8a8_YER",
        "outputId": "7f827261-3151-4899-d459-44b66c9497d3"
      },
      "execution_count": 3,
      "outputs": [
        {
          "output_type": "execute_result",
          "data": {
            "text/plain": [
              "{'nome': 'Carlos', 'idade': 31, 'cidade': 'São Paulo'}"
            ]
          },
          "metadata": {},
          "execution_count": 3
        }
      ]
    },
    {
      "cell_type": "code",
      "source": [
        "#Adicione uma nova chave \"profissão\" ao dicionário com o valor \"engenheiro\". Imprima o dicionário atualizado.\n",
        "pessoa[\"profissão\"] = \"engenheiro\"\n",
        "pessoa"
      ],
      "metadata": {
        "colab": {
          "base_uri": "https://localhost:8080/"
        },
        "id": "iQKe_DMs_dMY",
        "outputId": "0582e39c-4ecc-47f3-fb4d-115544a64687"
      },
      "execution_count": 4,
      "outputs": [
        {
          "output_type": "execute_result",
          "data": {
            "text/plain": [
              "{'nome': 'Carlos',\n",
              " 'idade': 31,\n",
              " 'cidade': 'São Paulo',\n",
              " 'profissão': 'engenheiro'}"
            ]
          },
          "metadata": {},
          "execution_count": 4
        }
      ]
    },
    {
      "cell_type": "code",
      "source": [
        "#Remova a chave \"cidade\" do dicionário e imprima o dicionário após a remoção.\n",
        "pessoa.pop(\"cidade\")"
      ],
      "metadata": {
        "colab": {
          "base_uri": "https://localhost:8080/",
          "height": 35
        },
        "id": "3KWHPiqB_nEf",
        "outputId": "ae9d21c3-d0b1-4672-9c28-30eedd59c963"
      },
      "execution_count": 5,
      "outputs": [
        {
          "output_type": "execute_result",
          "data": {
            "text/plain": [
              "'São Paulo'"
            ],
            "application/vnd.google.colaboratory.intrinsic+json": {
              "type": "string"
            }
          },
          "metadata": {},
          "execution_count": 5
        }
      ]
    },
    {
      "cell_type": "code",
      "source": [
        "#Utilize o método .keys() para imprimir todas as chaves do dicionário.\n",
        "pessoa.keys()"
      ],
      "metadata": {
        "colab": {
          "base_uri": "https://localhost:8080/"
        },
        "id": "UdnE31eAFhG4",
        "outputId": "46de0c85-6d0c-4a49-ca11-cd63d0fed253"
      },
      "execution_count": 6,
      "outputs": [
        {
          "output_type": "execute_result",
          "data": {
            "text/plain": [
              "dict_keys(['nome', 'idade', 'profissão'])"
            ]
          },
          "metadata": {},
          "execution_count": 6
        }
      ]
    },
    {
      "cell_type": "code",
      "source": [
        "#Utilize o método .values() para imprimir todos os valores do dicionário.\n",
        "pessoa.values()"
      ],
      "metadata": {
        "colab": {
          "base_uri": "https://localhost:8080/"
        },
        "id": "gJXn_kt8Fr4r",
        "outputId": "99109a09-74a8-4a16-f3d5-b1e1a3e70dd3"
      },
      "execution_count": 7,
      "outputs": [
        {
          "output_type": "execute_result",
          "data": {
            "text/plain": [
              "dict_values(['Carlos', 31, 'engenheiro'])"
            ]
          },
          "metadata": {},
          "execution_count": 7
        }
      ]
    },
    {
      "cell_type": "code",
      "source": [
        "#Exercício 5"
      ],
      "metadata": {
        "id": "QP547FJaF0e8"
      },
      "execution_count": null,
      "outputs": []
    },
    {
      "cell_type": "code",
      "source": [
        "#Crie uma tupla chamada cores contendo as seguintes cores: \"vermelho\", \"azul\", \"verde\", \"amarelo\", \"roxo\".\n",
        "#Imprima a tupla cores.\n",
        "cores = (\"vermelho\", \"azul\", \"verde\", \"amarelo\", \"roxo\")\n",
        "cores"
      ],
      "metadata": {
        "colab": {
          "base_uri": "https://localhost:8080/"
        },
        "id": "hOJSQbSNF6rM",
        "outputId": "dcb54f39-071a-48be-f5e8-b90f2744cabf"
      },
      "execution_count": 8,
      "outputs": [
        {
          "output_type": "execute_result",
          "data": {
            "text/plain": [
              "('vermelho', 'azul', 'verde', 'amarelo', 'roxo')"
            ]
          },
          "metadata": {},
          "execution_count": 8
        }
      ]
    },
    {
      "cell_type": "code",
      "source": [
        "# Acesse e imprima o segundo item da tupla cores.\n",
        "cores[1]"
      ],
      "metadata": {
        "colab": {
          "base_uri": "https://localhost:8080/",
          "height": 35
        },
        "id": "VouQxCO7GNM_",
        "outputId": "c1d6f5f2-65fa-4efa-80c9-a78716b39624"
      },
      "execution_count": 9,
      "outputs": [
        {
          "output_type": "execute_result",
          "data": {
            "text/plain": [
              "'azul'"
            ],
            "application/vnd.google.colaboratory.intrinsic+json": {
              "type": "string"
            }
          },
          "metadata": {},
          "execution_count": 9
        }
      ]
    },
    {
      "cell_type": "code",
      "source": [
        "#Verifique se a cor \"azul\" está presente na tupla cores e imprima True ou False dependendo da resposta.\n",
        "if \"azul\" in cores:\n",
        "  print(\"True\")\n",
        "else:\n",
        "  print(\"False\")"
      ],
      "metadata": {
        "colab": {
          "base_uri": "https://localhost:8080/"
        },
        "id": "R4SmKVgBGUF_",
        "outputId": "804707e1-a7d0-4ea8-e671-148634c78e2c"
      },
      "execution_count": 10,
      "outputs": [
        {
          "output_type": "stream",
          "name": "stdout",
          "text": [
            "TRue\n"
          ]
        }
      ]
    },
    {
      "cell_type": "code",
      "source": [
        "#Crie uma tupla chamada numeros contendo os números (1, 2, 3, 4, 5).\n",
        "numeros = (1, 2, 3, 4, 5)"
      ],
      "metadata": {
        "id": "o2Q8qQp2HKSF"
      },
      "execution_count": 11,
      "outputs": []
    },
    {
      "cell_type": "code",
      "source": [
        "#Some todos os elementos da tupla numeros e imprima o resultado.\n",
        "numeros = (1, 2, 3, 4, 5)\n",
        "def soma_numeros (numeros):\n",
        "  soma_numeros(numeros)"
      ],
      "metadata": {
        "id": "ODmHWT8sHZXz"
      },
      "execution_count": 51,
      "outputs": []
    },
    {
      "cell_type": "code",
      "source": [
        "#Tente alterar o valor do terceiro item da tupla cores para \"laranja\". O que acontece? Explique por que não é possível alterar um valor em uma tupla.\n",
        "cores = (\"vermelho\", \"azul\", \"verde\", \"amarelo\", \"roxo\")\n",
        "cores[2] = \"laranja\"\n",
        "##não é possível alterar o valor, pois a tupla não suporta atribuição de itens."
      ],
      "metadata": {
        "colab": {
          "base_uri": "https://localhost:8080/",
          "height": 193
        },
        "id": "2E-lcLgbMkpp",
        "outputId": "0d6178a2-d5c8-4e71-e644-f5ca3aa14464"
      },
      "execution_count": 49,
      "outputs": [
        {
          "output_type": "error",
          "ename": "TypeError",
          "evalue": "'tuple' object does not support item assignment",
          "traceback": [
            "\u001b[0;31m---------------------------------------------------------------------------\u001b[0m",
            "\u001b[0;31mTypeError\u001b[0m                                 Traceback (most recent call last)",
            "\u001b[0;32m<ipython-input-49-0f39bc00c9f6>\u001b[0m in \u001b[0;36m<cell line: 0>\u001b[0;34m()\u001b[0m\n\u001b[1;32m      1\u001b[0m \u001b[0;31m#Tente alterar o valor do terceiro item da tupla cores para \"laranja\". O que acontece? Explique por que não é possível alterar um valor em uma tupla.\u001b[0m\u001b[0;34m\u001b[0m\u001b[0;34m\u001b[0m\u001b[0m\n\u001b[1;32m      2\u001b[0m \u001b[0mcores\u001b[0m \u001b[0;34m=\u001b[0m \u001b[0;34m(\u001b[0m\u001b[0;34m\"vermelho\"\u001b[0m\u001b[0;34m,\u001b[0m \u001b[0;34m\"azul\"\u001b[0m\u001b[0;34m,\u001b[0m \u001b[0;34m\"verde\"\u001b[0m\u001b[0;34m,\u001b[0m \u001b[0;34m\"amarelo\"\u001b[0m\u001b[0;34m,\u001b[0m \u001b[0;34m\"roxo\"\u001b[0m\u001b[0;34m)\u001b[0m\u001b[0;34m\u001b[0m\u001b[0;34m\u001b[0m\u001b[0m\n\u001b[0;32m----> 3\u001b[0;31m \u001b[0mcores\u001b[0m\u001b[0;34m[\u001b[0m\u001b[0;36m2\u001b[0m\u001b[0;34m]\u001b[0m \u001b[0;34m=\u001b[0m \u001b[0;34m\"laranja\"\u001b[0m\u001b[0;34m\u001b[0m\u001b[0;34m\u001b[0m\u001b[0m\n\u001b[0m",
            "\u001b[0;31mTypeError\u001b[0m: 'tuple' object does not support item assignment"
          ]
        }
      ]
    },
    {
      "cell_type": "code",
      "source": [
        "#Crie uma nova tupla chamada nova_cores que seja a concatenação da tupla cores com uma nova tupla (\"preto\", \"branco\") e imprima o resultado.\n",
        "nova_cores = cores + (\"preto\", \"branco\")\n",
        "nova_cores"
      ],
      "metadata": {
        "colab": {
          "base_uri": "https://localhost:8080/"
        },
        "id": "5NfNugPBNbRD",
        "outputId": "5f6778cf-20cf-4d8f-8d90-87f8757e69eb"
      },
      "execution_count": 50,
      "outputs": [
        {
          "output_type": "execute_result",
          "data": {
            "text/plain": [
              "('vermelho', 'azul', 'verde', 'amarelo', 'roxo', 'preto', 'branco')"
            ]
          },
          "metadata": {},
          "execution_count": 50
        }
      ]
    },
    {
      "cell_type": "code",
      "source": [
        "#Exercício 6\n",
        "#Crie um programa que receba a altura e o peso de uma pessoa e imprima seu IMC\n",
        "print(\"Digite sua altura: \")\n",
        "altura = input()\n",
        "altura = altura.replace(\",\",\".\")\n",
        "altura = float(altura)\n",
        "print(\"Digite seu peso: \")\n",
        "peso = float(input())\n",
        "imc = altura/(peso**2)\n",
        "print(\"IMC = \", imc)"
      ],
      "metadata": {
        "colab": {
          "base_uri": "https://localhost:8080/"
        },
        "id": "DWCtrzMpUtsm",
        "outputId": "a42e8d8c-ff6e-402c-87d2-5b50ce1cbf4b"
      },
      "execution_count": null,
      "outputs": [
        {
          "output_type": "stream",
          "name": "stdout",
          "text": [
            "Digite sua altura: \n",
            "1,52\n",
            "Digite seu peso: \n",
            "45\n",
            "IMC =  0.0007506172839506173\n"
          ]
        }
      ]
    },
    {
      "cell_type": "code",
      "source": [
        "#Exercício 7\n",
        "#Escreva um programa que pergunte o nome completo do usuário e o cumprimente pelo primeiro nome.\n",
        "print(\"Digite seu nome: \")\n",
        "a = input()\n",
        "print(\"Olá, \", a)"
      ],
      "metadata": {
        "colab": {
          "base_uri": "https://localhost:8080/"
        },
        "id": "ZN6yQ4wUYOWk",
        "outputId": "15260d5c-d39d-40a5-bf20-9dd25fd38ffd"
      },
      "execution_count": null,
      "outputs": [
        {
          "output_type": "stream",
          "name": "stdout",
          "text": [
            "Digite seu nome: \n",
            "raiany\n",
            "Olá,  raiany\n"
          ]
        }
      ]
    },
    {
      "cell_type": "code",
      "source": [
        "#Exercício 8\n",
        "#Escreva um código que extraia o domínio de um e-mail informado\n",
        "print(\"Digite seu e-mail: \")\n",
        "a = input()\n",
        "a.split('@')[-1]"
      ],
      "metadata": {
        "colab": {
          "base_uri": "https://localhost:8080/",
          "height": 70
        },
        "id": "kmTOWTxoYc6S",
        "outputId": "ca181e9a-2403-4b10-9e2f-c9ee33547b5e"
      },
      "execution_count": null,
      "outputs": [
        {
          "name": "stdout",
          "output_type": "stream",
          "text": [
            "Digite seu e-mail: \n",
            "rtarganorato@gmail.com\n"
          ]
        },
        {
          "output_type": "execute_result",
          "data": {
            "text/plain": [
              "'gmail.com'"
            ],
            "application/vnd.google.colaboratory.intrinsic+json": {
              "type": "string"
            }
          },
          "metadata": {},
          "execution_count": 51
        }
      ]
    },
    {
      "cell_type": "code",
      "source": [
        "#Exercício 9\n",
        "#Faça um programa que pergunte quanto você ganha por hora e o número de horas trabalhadas\n",
        "#no mês. Calcule e mostre o total do seu salário no referido mês, sabendo-se que são\n",
        "#descontados 11% para o imposto de renda, 8% para o INSS e 5% para o sindicato. O\n",
        "#programa deve mostrar: salário bruto, quanto pagou ao INSS, quanto pagou ao sindicato,\n",
        "#salário líquido.\n",
        "print(\"Digite quanto vc ganha por hora: \")\n",
        "a = float(input())\n",
        "print(\"Digite quantas horas vc trabalha por mês: \")\n",
        "b = float(input())\n",
        "salario_bruto = a*b\n",
        "imposto_renda = salario_bruto*0.11\n",
        "inss = salario_bruto*0.08\n",
        "sindicato = salario_bruto*0.05\n",
        "salario_liquido = salario_bruto - imposto_renda - inss-sindicato\n",
        "print(\"Salário bruto: \",salario_bruto)\n",
        "print(\"Pago ao INSS: \", inss)\n",
        "print(\"Pago ao sindicato: \", sindicato)\n",
        "print(\"Salário líquido: \", salario_liquido)\n"
      ],
      "metadata": {
        "colab": {
          "base_uri": "https://localhost:8080/"
        },
        "id": "nw5s5c_mN7Q5",
        "outputId": "3704ed40-2871-474d-e5c1-3c4062088e2c"
      },
      "execution_count": 56,
      "outputs": [
        {
          "output_type": "stream",
          "name": "stdout",
          "text": [
            "Digite quanto vc ganha por hora: \n",
            "10\n",
            "Digite quantas horas vc trabalha por mês: \n",
            "200\n",
            "Salário bruto:  2000.0\n",
            "Pago ao INSS:  160.0\n",
            "Pago ao sindicato:  100.0\n",
            "Salário líquido:  1520.0\n"
          ]
        }
      ]
    }
  ]
}